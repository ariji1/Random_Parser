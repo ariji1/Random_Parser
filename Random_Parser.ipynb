{
 "cells": [
  {
   "cell_type": "code",
   "execution_count": 18,
   "metadata": {},
   "outputs": [],
   "source": [
    "import pandas as pd\n",
    "import numpy as np"
   ]
  },
  {
   "cell_type": "code",
   "execution_count": 103,
   "metadata": {},
   "outputs": [],
   "source": [
    "li = []\n",
    "import fileinput\n",
    "import re\n",
    "for line in fileinput.FileInput('schedule_Sample.txt'):\n",
    "    line = re.sub('^,','', line.rstrip())\n",
    "    line = line.rstrip(',')\n",
    "    li.append(line.split(\",\"))"
   ]
  },
  {
   "cell_type": "code",
   "execution_count": 173,
   "metadata": {},
   "outputs": [],
   "source": [
    "li2 = []\n",
    "li3=[]\n",
    "for i in li:\n",
    "    if('Every 'in i[0]):\n",
    "        li2.append(i)\n",
    "    if('Monthly 'in i[0]):\n",
    "        li2.append(i)\n",
    "for i in li:\n",
    "    if i not in li2:\n",
    "        li3.append(i)"
   ]
  },
  {
   "cell_type": "code",
   "execution_count": 174,
   "metadata": {},
   "outputs": [],
   "source": [
    "li3_head = li3.pop(0)"
   ]
  },
  {
   "cell_type": "code",
   "execution_count": 175,
   "metadata": {},
   "outputs": [],
   "source": [
    "df = pd.DataFrame(li3, columns=li3_head)"
   ]
  },
  {
   "cell_type": "code",
   "execution_count": 177,
   "metadata": {},
   "outputs": [
    {
     "data": {
      "text/html": [
       "<div>\n",
       "<style scoped>\n",
       "    .dataframe tbody tr th:only-of-type {\n",
       "        vertical-align: middle;\n",
       "    }\n",
       "\n",
       "    .dataframe tbody tr th {\n",
       "        vertical-align: top;\n",
       "    }\n",
       "\n",
       "    .dataframe thead th {\n",
       "        text-align: right;\n",
       "    }\n",
       "</style>\n",
       "<table border=\"1\" class=\"dataframe\">\n",
       "  <thead>\n",
       "    <tr style=\"text-align: right;\">\n",
       "      <th></th>\n",
       "      <th>Report Name</th>\n",
       "      <th>Frequency</th>\n",
       "      <th>Time</th>\n",
       "    </tr>\n",
       "  </thead>\n",
       "  <tbody>\n",
       "    <tr>\n",
       "      <th>0</th>\n",
       "      <td>aa</td>\n",
       "      <td>Monthly Schedule</td>\n",
       "      <td>16:30:00</td>\n",
       "    </tr>\n",
       "    <tr>\n",
       "      <th>1</th>\n",
       "      <td>bb</td>\n",
       "      <td>Monthly Schedule</td>\n",
       "      <td>11:59:00</td>\n",
       "    </tr>\n",
       "    <tr>\n",
       "      <th>2</th>\n",
       "      <td>cc</td>\n",
       "      <td>Daily Schedule</td>\n",
       "      <td>23:37:00</td>\n",
       "    </tr>\n",
       "    <tr>\n",
       "      <th>3</th>\n",
       "      <td>dd</td>\n",
       "      <td>Weekly Schedule</td>\n",
       "      <td>15:21:00</td>\n",
       "    </tr>\n",
       "    <tr>\n",
       "      <th>4</th>\n",
       "      <td>ee</td>\n",
       "      <td>Weekly Schedule</td>\n",
       "      <td>17:30:00</td>\n",
       "    </tr>\n",
       "    <tr>\n",
       "      <th>5</th>\n",
       "      <td>ff</td>\n",
       "      <td>Weekly Schedule</td>\n",
       "      <td>13:45:00</td>\n",
       "    </tr>\n",
       "    <tr>\n",
       "      <th>6</th>\n",
       "      <td>gg</td>\n",
       "      <td>Weekly Schedule</td>\n",
       "      <td>13:45:00</td>\n",
       "    </tr>\n",
       "    <tr>\n",
       "      <th>7</th>\n",
       "      <td>hh</td>\n",
       "      <td>Weekly Schedule</td>\n",
       "      <td>17:30:00</td>\n",
       "    </tr>\n",
       "    <tr>\n",
       "      <th>8</th>\n",
       "      <td>ii</td>\n",
       "      <td>Weekly Schedule</td>\n",
       "      <td>16:30:00</td>\n",
       "    </tr>\n",
       "  </tbody>\n",
       "</table>\n",
       "</div>"
      ],
      "text/plain": [
       "  Report Name         Frequency      Time\n",
       "0          aa  Monthly Schedule  16:30:00\n",
       "1          bb  Monthly Schedule  11:59:00\n",
       "2          cc    Daily Schedule  23:37:00\n",
       "3          dd   Weekly Schedule  15:21:00\n",
       "4          ee   Weekly Schedule  17:30:00\n",
       "5          ff   Weekly Schedule  13:45:00\n",
       "6          gg   Weekly Schedule  13:45:00\n",
       "7          hh   Weekly Schedule  17:30:00\n",
       "8          ii   Weekly Schedule  16:30:00"
      ]
     },
     "metadata": {},
     "output_type": "display_data"
    }
   ],
   "source": [
    "display(df)"
   ]
  },
  {
   "cell_type": "code",
   "execution_count": 181,
   "metadata": {},
   "outputs": [],
   "source": [
    "newtest = [x[0] for x in li2]"
   ]
  },
  {
   "cell_type": "code",
   "execution_count": 183,
   "metadata": {},
   "outputs": [],
   "source": [
    "df['exact']=newtest"
   ]
  },
  {
   "cell_type": "code",
   "execution_count": 186,
   "metadata": {},
   "outputs": [
    {
     "data": {
      "text/html": [
       "<div>\n",
       "<style scoped>\n",
       "    .dataframe tbody tr th:only-of-type {\n",
       "        vertical-align: middle;\n",
       "    }\n",
       "\n",
       "    .dataframe tbody tr th {\n",
       "        vertical-align: top;\n",
       "    }\n",
       "\n",
       "    .dataframe thead th {\n",
       "        text-align: right;\n",
       "    }\n",
       "</style>\n",
       "<table border=\"1\" class=\"dataframe\">\n",
       "  <thead>\n",
       "    <tr style=\"text-align: right;\">\n",
       "      <th></th>\n",
       "      <th></th>\n",
       "      <th>Time</th>\n",
       "      <th>exact</th>\n",
       "    </tr>\n",
       "    <tr>\n",
       "      <th>Frequency</th>\n",
       "      <th>Report Name</th>\n",
       "      <th></th>\n",
       "      <th></th>\n",
       "    </tr>\n",
       "  </thead>\n",
       "  <tbody>\n",
       "    <tr>\n",
       "      <th>Daily Schedule</th>\n",
       "      <th>cc</th>\n",
       "      <td>23:37:00</td>\n",
       "      <td>Every 1 day(s)</td>\n",
       "    </tr>\n",
       "    <tr>\n",
       "      <th rowspan=\"2\" valign=\"top\">Monthly Schedule</th>\n",
       "      <th>aa</th>\n",
       "      <td>16:30:00</td>\n",
       "      <td>Monthly Absolute: Day 10 of every 1 month(s)</td>\n",
       "    </tr>\n",
       "    <tr>\n",
       "      <th>bb</th>\n",
       "      <td>11:59:00</td>\n",
       "      <td>Monthly Absolute: Day 10 of every 1 month(s)</td>\n",
       "    </tr>\n",
       "    <tr>\n",
       "      <th rowspan=\"6\" valign=\"top\">Weekly Schedule</th>\n",
       "      <th>dd</th>\n",
       "      <td>15:21:00</td>\n",
       "      <td>Every 1 week(s) on: Tuesday</td>\n",
       "    </tr>\n",
       "    <tr>\n",
       "      <th>ee</th>\n",
       "      <td>17:30:00</td>\n",
       "      <td>Every 1 week(s) on: Tuesday</td>\n",
       "    </tr>\n",
       "    <tr>\n",
       "      <th>ff</th>\n",
       "      <td>13:45:00</td>\n",
       "      <td>Every 1 week(s) on: Thursday</td>\n",
       "    </tr>\n",
       "    <tr>\n",
       "      <th>gg</th>\n",
       "      <td>13:45:00</td>\n",
       "      <td>Every 1 week(s) on: Monday</td>\n",
       "    </tr>\n",
       "    <tr>\n",
       "      <th>hh</th>\n",
       "      <td>17:30:00</td>\n",
       "      <td>Every 1 week(s) on: Sunday</td>\n",
       "    </tr>\n",
       "    <tr>\n",
       "      <th>ii</th>\n",
       "      <td>16:30:00</td>\n",
       "      <td>Every 1 week(s) on: Sunday</td>\n",
       "    </tr>\n",
       "  </tbody>\n",
       "</table>\n",
       "</div>"
      ],
      "text/plain": [
       "                                  Time  \\\n",
       "Frequency        Report Name             \n",
       "Daily Schedule   cc           23:37:00   \n",
       "Monthly Schedule aa           16:30:00   \n",
       "                 bb           11:59:00   \n",
       "Weekly Schedule  dd           15:21:00   \n",
       "                 ee           17:30:00   \n",
       "                 ff           13:45:00   \n",
       "                 gg           13:45:00   \n",
       "                 hh           17:30:00   \n",
       "                 ii           16:30:00   \n",
       "\n",
       "                                                                     exact  \n",
       "Frequency        Report Name                                                \n",
       "Daily Schedule   cc                                         Every 1 day(s)  \n",
       "Monthly Schedule aa           Monthly Absolute: Day 10 of every 1 month(s)  \n",
       "                 bb           Monthly Absolute: Day 10 of every 1 month(s)  \n",
       "Weekly Schedule  dd                            Every 1 week(s) on: Tuesday  \n",
       "                 ee                            Every 1 week(s) on: Tuesday  \n",
       "                 ff                           Every 1 week(s) on: Thursday  \n",
       "                 gg                             Every 1 week(s) on: Monday  \n",
       "                 hh                             Every 1 week(s) on: Sunday  \n",
       "                 ii                             Every 1 week(s) on: Sunday  "
      ]
     },
     "execution_count": 186,
     "metadata": {},
     "output_type": "execute_result"
    }
   ],
   "source": [
    "df.groupby(['Frequency','Report Name']).sum()"
   ]
  }
 ],
 "metadata": {
  "kernelspec": {
   "display_name": "Python 3",
   "language": "python",
   "name": "python3"
  },
  "language_info": {
   "codemirror_mode": {
    "name": "ipython",
    "version": 3
   },
   "file_extension": ".py",
   "mimetype": "text/x-python",
   "name": "python",
   "nbconvert_exporter": "python",
   "pygments_lexer": "ipython3",
   "version": "3.7.1"
  }
 },
 "nbformat": 4,
 "nbformat_minor": 2
}
